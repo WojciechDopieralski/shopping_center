{
 "cells": [
  {
   "cell_type": "code",
   "execution_count": 20,
   "metadata": {},
   "outputs": [],
   "source": [
    "#If some problems with libraries occure witre: !pip install pck_name (example: !pip install selenium)\n",
    "from requests import get\n",
    "from bs4 import BeautifulSoup\n",
    "from selenium import webdriver\n",
    "from selenium.webdriver.chrome.options import Options\n",
    "from selenium.webdriver.support.select import Select\n",
    "from time import sleep\n",
    "import pickle"
   ]
  },
  {
   "cell_type": "code",
   "execution_count": 2,
   "metadata": {},
   "outputs": [],
   "source": [
    "# Options for hiden web browser. \n",
    "options = Options()\n",
    "# options.add_argument(\"--disable-notifications\")\n",
    "# options.headless = True\n",
    "# options.add_argument(\"--window-size=1920,1200\")"
   ]
  },
  {
   "cell_type": "code",
   "execution_count": 3,
   "metadata": {},
   "outputs": [],
   "source": [
    "DRIVER_PATH = 'C:\\\\Users\\\\x\\\\Desktop\\\\Nauka\\\\projekty\\\\galeria_handlowa_MongoDB\\\\shopping_center\\\\chromedriver.exe'\n",
    "driver = webdriver.Chrome( executable_path=DRIVER_PATH, options = options)"
   ]
  },
  {
   "cell_type": "code",
   "execution_count": 4,
   "metadata": {},
   "outputs": [],
   "source": [
    "driver.get('https://www.avenidapoznan.com/sklepy/wszystko')"
   ]
  },
  {
   "cell_type": "code",
   "execution_count": 5,
   "metadata": {},
   "outputs": [],
   "source": [
    "#Close the modal on page - TO DO: add if for existing!\n",
    "sleep(5)\n",
    "driver.execute_script('$(\"#mdl-modal-central #cookie-banner--save__button\").click()')"
   ]
  },
  {
   "cell_type": "code",
   "execution_count": 6,
   "metadata": {},
   "outputs": [],
   "source": [
    "button_to_click = driver.find_element_by_xpath('/html/body/div[2]/section/section/div/a')"
   ]
  },
  {
   "cell_type": "code",
   "execution_count": 7,
   "metadata": {},
   "outputs": [],
   "source": [
    "while (button_to_click.is_displayed()):\n",
    "    sleep(1.5)\n",
    "    if not button_to_click.is_displayed():\n",
    "        html_soup = BeautifulSoup(driver.page_source, 'html.parser')\n",
    "        break\n",
    "    sleep(3)\n",
    "    button_to_click.click()\n"
   ]
  },
  {
   "cell_type": "code",
   "execution_count": 8,
   "metadata": {},
   "outputs": [],
   "source": [
    "cont = html_soup.find_all('div', class_ = 'tsr-shop__overlay')\n",
    "shop_list = []"
   ]
  },
  {
   "cell_type": "code",
   "execution_count": 9,
   "metadata": {},
   "outputs": [],
   "source": [
    "for shop_iter in cont:\n",
    "    shop_name = shop_iter.find('h3', class_ = \"tsr-shop__name\").text\n",
    "    shop_list.append(shop_name)"
   ]
  },
  {
   "cell_type": "code",
   "execution_count": 23,
   "metadata": {
    "collapsed": true
   },
   "outputs": [
    {
     "data": {
      "text/plain": [
       "['4F',\n",
       " '50 style',\n",
       " 'Action',\n",
       " 'Adidas',\n",
       " 'Ami Bijoux',\n",
       " 'Ania Kruk',\n",
       " 'Apart',\n",
       " 'Bacca Scrittorini',\n",
       " 'Bershka',\n",
       " 'Big Star',\n",
       " 'Bijou Brigitte',\n",
       " 'Bloch Optyk',\n",
       " 'Briju',\n",
       " 'Bytom',\n",
       " 'Calypso Fitness',\n",
       " 'Calzedonia',\n",
       " 'Carry',\n",
       " 'CCC Shoes',\n",
       " 'Cewe Fotojoker',\n",
       " 'Citi Handlowy',\n",
       " 'Coral Travel',\n",
       " 'Cropp',\n",
       " 'Dalia',\n",
       " 'Dealz',\n",
       " 'DEICHMANN',\n",
       " 'Diverse',\n",
       " 'Douglas',\n",
       " 'DOZ Apteka',\n",
       " 'ecco',\n",
       " 'Empik',\n",
       " 'eSmokingWorld',\n",
       " 'FEMESTAGE',\n",
       " 'Five o’clock',\n",
       " 'Fonx',\n",
       " 'Fotobudka',\n",
       " 'Frasco',\n",
       " 'Gatta',\n",
       " 'Gino Rossi',\n",
       " 'Golden Rose',\n",
       " 'Good Game VR',\n",
       " 'Grey Wolf',\n",
       " 'H&M',\n",
       " 'Home&You',\n",
       " 'HOUSE',\n",
       " 'ING',\n",
       " 'INGLOT',\n",
       " 'Intersport',\n",
       " 'intervip-karcher',\n",
       " 'Intimissimi',\n",
       " 'Iqos',\n",
       " 'iSpot',\n",
       " 'ITAKA',\n",
       " 'Jean Louis David',\n",
       " 'Kakadu',\n",
       " 'KFD',\n",
       " 'KiK',\n",
       " 'Kingsize',\n",
       " 'KKS Lech Poznań',\n",
       " 'Kontigo',\n",
       " 'Księgarnie Świat Książki',\n",
       " 'Kukartka',\n",
       " 'Lavard',\n",
       " 'Lee Wrangler',\n",
       " 'MAC',\n",
       " 'Mango',\n",
       " 'MANIPEDI',\n",
       " 'Marilyn',\n",
       " 'Martes Sport',\n",
       " 'mBank',\n",
       " 'Media Markt',\n",
       " 'Medicine',\n",
       " 'Mi Store',\n",
       " 'Millennium Bank',\n",
       " 'Mohito',\n",
       " 'Monnari',\n",
       " 'NeoNail',\n",
       " 'New Balance',\n",
       " 'Office Shoes',\n",
       " 'Olsen',\n",
       " 'Only',\n",
       " 'Orange',\n",
       " 'Organique',\n",
       " 'Orsay',\n",
       " 'Pandora',\n",
       " 'Panek',\n",
       " 'Paris Optique',\n",
       " 'Peek & Cloppenburg',\n",
       " 'PEPCO',\n",
       " 'PGNiG',\n",
       " 'Piotr i Paweł',\n",
       " 'Play',\n",
       " 'Plus',\n",
       " 'POP-Factory',\n",
       " 'Pralnia EBS',\n",
       " 'Pretty One',\n",
       " 'Przemeks',\n",
       " 'Pull&Bear',\n",
       " 'QUIOSQUE',\n",
       " 'Rainbow Tours',\n",
       " 'REPABLO',\n",
       " 'Reserved',\n",
       " 'Rossmann',\n",
       " 'Ruch',\n",
       " 'Ryłko',\n",
       " 'Samsonite Valentini',\n",
       " 'Semilac',\n",
       " 'Sephora',\n",
       " 'Sindbad',\n",
       " 'Sinsay',\n",
       " 'Sizeer',\n",
       " 'Smoke Shop',\n",
       " 'Smyk',\n",
       " 'Sports Direct',\n",
       " 'Stradivarius',\n",
       " 'Super-Pharm',\n",
       " 'Swiss',\n",
       " 'Symbiosis',\n",
       " 'T-Mobile',\n",
       " 'Tally Weijl',\n",
       " 'TARANKO',\n",
       " 'Tchibo',\n",
       " 'Telakces.com',\n",
       " 'Terranova',\n",
       " 'Ticket Tree – salon gier',\n",
       " 'TK Maxx',\n",
       " 'Top Case',\n",
       " 'Totalizator Sportowy',\n",
       " 'Tous',\n",
       " 'Triumph',\n",
       " 'TUI Centrum Podróży',\n",
       " 'Twoje Soczewki',\n",
       " 'Unisono',\n",
       " 'United Colors of Benetton',\n",
       " 'Venezia',\n",
       " 'Vision Express',\n",
       " 'Vissavi',\n",
       " 'W.KRUK',\n",
       " 'Way To Beauty',\n",
       " 'Wittchen',\n",
       " 'Wojas',\n",
       " 'WyjątkowyPrezent.pl',\n",
       " 'x-kom',\n",
       " 'Yes',\n",
       " 'Yves Rocher',\n",
       " 'Żabka',\n",
       " 'Ziaja dla Ciebie',\n",
       " 'Zielony Zakątek – kwiaciarnia',\n",
       " 'Złote szatnie']"
      ]
     },
     "execution_count": 23,
     "metadata": {},
     "output_type": "execute_result"
    }
   ],
   "source": [
    "shop_list"
   ]
  },
  {
   "cell_type": "code",
   "execution_count": 25,
   "metadata": {},
   "outputs": [],
   "source": [
    "#Save list to a file using pickle (https://stackoverflow.com/questions/899103/writing-a-list-to-a-file-with-python/899176)\n",
    "with open('data_for_JSON/shop_list_pickle', 'wb') as fp:\n",
    "    pickle.dump(shop_list, fp)"
   ]
  },
  {
   "cell_type": "code",
   "execution_count": 11,
   "metadata": {},
   "outputs": [],
   "source": [
    "#find element with class inp-select__select. Needed for shops categories. \n",
    "category_selector = driver.find_element_by_class_name('inp-select__select')"
   ]
  },
  {
   "cell_type": "code",
   "execution_count": 12,
   "metadata": {},
   "outputs": [],
   "source": [
    "#Use class Select, that is created for select type of elements, and save all options to variable\n",
    "select = Select(category_selector)\n",
    "dropdown_options = select.options"
   ]
  },
  {
   "cell_type": "code",
   "execution_count": 13,
   "metadata": {},
   "outputs": [],
   "source": [
    "#Create empty list to hold category names\n",
    "array_options = []\n",
    "#Save category names in list (1 by 1 in a loop. Iterate over dropdown_options list!)\n",
    "for option in dropdown_options:\n",
    "    array_options.append(option.text)"
   ]
  },
  {
   "cell_type": "code",
   "execution_count": 18,
   "metadata": {},
   "outputs": [],
   "source": [
    "#Remove 2 first observation from list\n",
    "array_options = array_options[2:]"
   ]
  },
  {
   "cell_type": "code",
   "execution_count": 19,
   "metadata": {
    "collapsed": true
   },
   "outputs": [
    {
     "data": {
      "text/plain": [
       "['Akcesoria skórzane i podróżne',\n",
       " 'Prasa i książki',\n",
       " 'Rozrywka',\n",
       " 'Moda',\n",
       " 'Gastronomia',\n",
       " 'Artykuły spożywcze',\n",
       " 'Zdrowie i uroda',\n",
       " 'Wnętrza',\n",
       " 'Biżuteria i zegarki',\n",
       " 'Apteka',\n",
       " 'Obuwie',\n",
       " 'Sport i fitness',\n",
       " 'Multimedia',\n",
       " 'Zabawki i hobby',\n",
       " 'Usługi']"
      ]
     },
     "execution_count": 19,
     "metadata": {},
     "output_type": "execute_result"
    }
   ],
   "source": [
    "array_options"
   ]
  },
  {
   "cell_type": "code",
   "execution_count": 26,
   "metadata": {},
   "outputs": [],
   "source": [
    "with open('data_for_JSON/shop_category_pickle', 'wb') as fp:\n",
    "    pickle.dump(array_options, fp)"
   ]
  },
  {
   "cell_type": "code",
   "execution_count": 41,
   "metadata": {},
   "outputs": [],
   "source": [
    "driver.quit()"
   ]
  },
  {
   "cell_type": "code",
   "execution_count": null,
   "metadata": {},
   "outputs": [],
   "source": []
  },
  {
   "cell_type": "code",
   "execution_count": null,
   "metadata": {},
   "outputs": [],
   "source": []
  },
  {
   "cell_type": "code",
   "execution_count": null,
   "metadata": {},
   "outputs": [],
   "source": []
  },
  {
   "cell_type": "code",
   "execution_count": null,
   "metadata": {},
   "outputs": [],
   "source": []
  },
  {
   "cell_type": "code",
   "execution_count": null,
   "metadata": {},
   "outputs": [],
   "source": []
  },
  {
   "cell_type": "code",
   "execution_count": null,
   "metadata": {},
   "outputs": [],
   "source": []
  }
 ],
 "metadata": {
  "kernelspec": {
   "display_name": "Python 3",
   "language": "python",
   "name": "python3"
  },
  "language_info": {
   "codemirror_mode": {
    "name": "ipython",
    "version": 3
   },
   "file_extension": ".py",
   "mimetype": "text/x-python",
   "name": "python",
   "nbconvert_exporter": "python",
   "pygments_lexer": "ipython3",
   "version": "3.7.6"
  }
 },
 "nbformat": 4,
 "nbformat_minor": 4
}
