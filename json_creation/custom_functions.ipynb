{
 "cells": [
  {
   "cell_type": "code",
   "execution_count": 8,
   "metadata": {},
   "outputs": [],
   "source": [
    "import json \n",
    "import uuid \n",
    "import random\n",
    "import csv\n",
    "import calendar\n",
    "import pandas as pd \n",
    "import numpy as np\n",
    "from datetime import datetime, timedelta"
   ]
  },
  {
   "cell_type": "markdown",
   "metadata": {},
   "source": [
    "### custom distributions and variables:"
   ]
  },
  {
   "cell_type": "code",
   "execution_count": 2,
   "metadata": {},
   "outputs": [],
   "source": [
    "# distribution for value is menager. 20% for being a menager.\n",
    "menager_distribution = [0.2,0.8]\n",
    "salary_worker_distribution = [0.5,0.35, 0.1, 0.05]\n",
    "salary_menager_distribution = [0.25, 0.5, 0.15, 0.06, 0.04]\n",
    "minimum_wage = 2600\n",
    "#Exceptions of typical names. \n",
    "name_men_exceptions = [\"Jarema\", \"Barnaba\", \"Kuba\", \"Kosma\", \"Bonawentura\", \"Dyzma\"]\n",
    "name_women_excepions = [\"Nicole\"]"
   ]
  },
  {
   "cell_type": "code",
   "execution_count": null,
   "metadata": {},
   "outputs": [],
   "source": []
  },
  {
   "cell_type": "code",
   "execution_count": 2,
   "metadata": {},
   "outputs": [],
   "source": [
    "def get_surname(data_frame):\n",
    "    \"\"\"\n",
    "    docstring\n",
    "    \"\"\"\n",
    "    return data_frame.sample(1, weights = 'perc').surname.to_string(index = False).strip().capitalize()"
   ]
  },
  {
   "cell_type": "code",
   "execution_count": 4,
   "metadata": {},
   "outputs": [],
   "source": [
    "def create_perc_col(data_frame, number_col: str = \"number\", ndigits: int = 2):\n",
    "    \"\"\"\n",
    "    docstring\n",
    "    \"\"\"\n",
    "    data_frame[\"perc\"] = round(data_frame[number_col]/data_frame[number_col].sum(), ndigits)\n",
    "    return data_frame"
   ]
  },
  {
   "cell_type": "code",
   "execution_count": 5,
   "metadata": {},
   "outputs": [],
   "source": [
    "def create_emplo_age(age_data_set):\n",
    "    \"\"\"\n",
    "        docstring\n",
    "    \"\"\"\n",
    "    random_value = age_data_set.sample(1, weights = 'perc').age.to_string(index = False).strip()\n",
    "    start_age = int(random_value[:2])\n",
    "    end_age = int(random_value[-2:])\n",
    "    return random.randint(start_age, end_age)"
   ]
  },
  {
   "cell_type": "code",
   "execution_count": 6,
   "metadata": {},
   "outputs": [],
   "source": [
    "def create_interval_wage(min_add:int, max_add: int, step: int = 50, minimum_wage: int = 2600):\n",
    "    \"\"\"\n",
    "    docstring\n",
    "    \"\"\"\n",
    "    return random.randrange(minimum_wage + min_add, minimum_wage + max_add, step)"
   ]
  },
  {
   "cell_type": "code",
   "execution_count": 1,
   "metadata": {},
   "outputs": [],
   "source": [
    "def generate_employee(names_list, data_surnames_men,data_age_men, data_surnames_women, data_age_women):\n",
    "    \"\"\"\n",
    "    docstring\n",
    "    \"\"\"\n",
    "    id = str(uuid.uuid4())\n",
    "    is_menager = random.choices([True, False], menager_distribution)[0]\n",
    "    name = random.choice(names_list)[0]\n",
    "    #Generate gender - based on name! \n",
    "\n",
    "    if name in name_men_exceptions:\n",
    "        #observation is men with name ending with a\n",
    "        gender = 1\n",
    "    elif name in name_women_excepions:\n",
    "        gender: 1\n",
    "    elif name[-1] is 'a':\n",
    "        #observation is woman\n",
    "        gender = 0\n",
    "    else:\n",
    "        #observation is man\n",
    "        gender = 1\n",
    "\n",
    "    if gender is 1:\n",
    "        surname = get_surname(data_surnames_men)\n",
    "        age = create_emplo_age(data_age_men)\n",
    "    else:\n",
    "        surname = get_surname(data_surnames_women)\n",
    "        age = create_emplo_age(data_age_women)\n",
    "\n",
    "    if is_menager: \n",
    "        salary = random.choices([create_interval_wage(300, 600), create_interval_wage(650, 1000), create_interval_wage(1000, 1500), create_interval_wage(1500, 1900), create_interval_wage(1900, 2500, step = 100)], salary_menager_distribution)[0]\n",
    "    else:\n",
    "        salary = random.choices([minimum_wage, create_interval_wage(50, 300),create_interval_wage(350, 600), create_interval_wage(650, 1000) ], salary_worker_distribution)[0]\n",
    "\n",
    "    employee_dict = {\n",
    "        \"id\" : id,\n",
    "        \"is_menager\" : is_menager,\n",
    "        \"name\" : name,\n",
    "        \"surname\" : surname,\n",
    "        \"gender\" : gender,\n",
    "        \"age\" : age,\n",
    "        \"salary\" : salary,\n",
    "        \"created_at\" : datetime.now(),\n",
    "        \"updated_at\" : datetime.now()\n",
    "    }\n",
    "    \n",
    "    return employee_dict"
   ]
  },
  {
   "cell_type": "code",
   "execution_count": 11,
   "metadata": {},
   "outputs": [],
   "source": [
    "def random_date(start, end):\n",
    "    \"\"\"\n",
    "    This function will return a random datetime between two datetime objects.\n",
    "    \"\"\"\n",
    "    delta = end - start\n",
    "    int_delta = (delta.days * 24 * 60 * 60) + delta.seconds\n",
    "    random_second = random.randrange(int_delta)\n",
    "    return start + timedelta(seconds=random_second)"
   ]
  },
  {
   "cell_type": "code",
   "execution_count": null,
   "metadata": {},
   "outputs": [],
   "source": []
  }
 ],
 "metadata": {
  "kernelspec": {
   "display_name": "Python 3",
   "language": "python",
   "name": "python3"
  },
  "language_info": {
   "codemirror_mode": {
    "name": "ipython",
    "version": 3
   },
   "file_extension": ".py",
   "mimetype": "text/x-python",
   "name": "python",
   "nbconvert_exporter": "python",
   "pygments_lexer": "ipython3",
   "version": "3.7.6"
  }
 },
 "nbformat": 4,
 "nbformat_minor": 4
}
