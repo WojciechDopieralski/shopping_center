{
 "cells": [
  {
   "cell_type": "markdown",
   "metadata": {},
   "source": [
    "<center><h2> Create employees JSON document </h2></center>"
   ]
  },
  {
   "cell_type": "markdown",
   "metadata": {},
   "source": [
    "### Load libraries "
   ]
  },
  {
   "cell_type": "code",
   "execution_count": 2,
   "metadata": {},
   "outputs": [],
   "source": [
    "import json \n",
    "import uuid \n",
    "import random\n",
    "import csv\n",
    "import ipynb\n",
    "import json\n",
    "import pandas as pd \n",
    "import numpy as np\n",
    "import ipynb.fs.full.custom_functions as cf\n",
    "from datetime import datetime"
   ]
  },
  {
   "cell_type": "markdown",
   "metadata": {},
   "source": [
    "### Load data for generating employees"
   ]
  },
  {
   "cell_type": "code",
   "execution_count": 97,
   "metadata": {},
   "outputs": [],
   "source": [
    "# load file with polish names. \n",
    "with open(\"data_for_JSON/names.csv\", newline='', encoding='utf-8') as f:\n",
    "    reader = csv.reader(f)\n",
    "    names_list = list(filter(None, reader))\n",
    "    del names_list[0]\n",
    "    \n",
    "#load data from GUS about polish surnames\n",
    "data_surnames_men = pd.read_csv(\"data_for_JSON/surnames_gus_men.csv\", skiprows=1, names = [\"surname\",\"number\"], encoding='utf-8')\n",
    "data_surnames_women = pd.read_csv(\"data_for_JSON/surnames_gus_women.csv\", skiprows=1, names = [\"surname\",\"number\"], encoding='utf-8')\n",
    "#load data from BAEL about age of working ppl.\n",
    "data_age_men = pd.read_excel(\"data_for_JSON/age_bael.xlsx\", sheet_name = \"men\")\n",
    "data_age_women = pd.read_excel(\"data_for_JSON/age_bael.xlsx\", sheet_name = \"women\")"
   ]
  },
  {
   "cell_type": "code",
   "execution_count": 101,
   "metadata": {},
   "outputs": [],
   "source": [
    "#Create column with perc value\n",
    "data_surnames_men = cf.create_perc_col(data_surnames_men, ndigits = 10)\n",
    "data_surnames_women = cf.create_perc_col(data_surnames_women, ndigits = 10)"
   ]
  },
  {
   "cell_type": "code",
   "execution_count": 102,
   "metadata": {},
   "outputs": [],
   "source": [
    "data_age_men = cf.create_perc_col(data_age_men)\n",
    "data_age_women = cf.create_perc_col(data_age_women)\n",
    "data_age_men[\"age\"] = data_age_men[\"age\"].str.strip().str.replace(\"65  lat i więcej\", \"65-72\")\n",
    "data_age_women[\"age\"] = data_age_women[\"age\"].str.strip().str.replace(\"65  lat i więcej\", \"65-72\")"
   ]
  },
  {
   "cell_type": "markdown",
   "metadata": {},
   "source": [
    "### Generate values for employees JSON"
   ]
  },
  {
   "cell_type": "code",
   "execution_count": 99,
   "metadata": {},
   "outputs": [],
   "source": [
    "number_of_emplo_in_center = 100\n",
    "emplo_list_json = []"
   ]
  },
  {
   "cell_type": "code",
   "execution_count": 103,
   "metadata": {},
   "outputs": [],
   "source": [
    "for i in range(number_of_emplo_in_center):\n",
    "    emplo_dict = cf.generate_employee(names_list, data_surnames_men,data_age_men, data_surnames_women, data_age_women)\n",
    "    emplo_json = json.dumps(emplo_dict, ensure_ascii=False).encode('utf8')\n",
    "    emplo_list.append(emplo_json.decode())"
   ]
  },
  {
   "cell_type": "code",
   "execution_count": null,
   "metadata": {},
   "outputs": [],
   "source": []
  },
  {
   "cell_type": "code",
   "execution_count": null,
   "metadata": {},
   "outputs": [],
   "source": []
  }
 ],
 "metadata": {
  "kernelspec": {
   "display_name": "Python 3",
   "language": "python",
   "name": "python3"
  },
  "language_info": {
   "codemirror_mode": {
    "name": "ipython",
    "version": 3
   },
   "file_extension": ".py",
   "mimetype": "text/x-python",
   "name": "python",
   "nbconvert_exporter": "python",
   "pygments_lexer": "ipython3",
   "version": "3.7.6"
  }
 },
 "nbformat": 4,
 "nbformat_minor": 4
}
