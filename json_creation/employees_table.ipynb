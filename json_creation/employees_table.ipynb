{
 "cells": [
  {
   "cell_type": "markdown",
   "metadata": {},
   "source": [
    "<center><h2> Create employees JSON document </h2></center>"
   ]
  },
  {
   "cell_type": "markdown",
   "metadata": {},
   "source": [
    "### Load libraries "
   ]
  },
  {
   "cell_type": "code",
   "execution_count": 66,
   "metadata": {},
   "outputs": [],
   "source": [
    "import json \n",
    "import uuid \n",
    "import random\n",
    "import csv\n",
    "import pandas as pd \n",
    "import numpy as np"
   ]
  },
  {
   "cell_type": "markdown",
   "metadata": {},
   "source": [
    "### variables for JSON"
   ]
  },
  {
   "cell_type": "code",
   "execution_count": 61,
   "metadata": {},
   "outputs": [],
   "source": [
    "# distribution for value is menager. 20% for being a menager.\n",
    "menager_distribution = [0.2,0.8]\n"
   ]
  },
  {
   "cell_type": "code",
   "execution_count": 72,
   "metadata": {},
   "outputs": [],
   "source": [
    "# load file with polish names. \n",
    "with open(\"data_for_JSON/names.csv\", newline='', encoding='utf-8') as f:\n",
    "    reader = csv.reader(f)\n",
    "    names_list = list(reader)\n",
    "    del names_list[0]"
   ]
  },
  {
   "cell_type": "code",
   "execution_count": 168,
   "metadata": {},
   "outputs": [],
   "source": [
    "#Exceptions of typical names. \n",
    "name_men_exceptions = [\"Jarema\", \"Barnaba\", \"Kuba\", \"Kosma\", \"Bonawentura\", \"Dyzma\"]\n",
    "name_women_excepions = [\"Nicole\"]"
   ]
  },
  {
   "cell_type": "code",
   "execution_count": 195,
   "metadata": {},
   "outputs": [],
   "source": [
    "#load data from GUS\n",
    "data_surnames_men = pd.read_csv(\"data_for_JSON/surnames_gus_men.csv\", skiprows=1, names = [\"surname\",\"number\"])\n",
    "data_surnames_women = pd.read_csv(\"data_for_JSON/surnames_gus_women.csv\", skiprows=1, names = [\"surname\",\"number\"])\n"
   ]
  },
  {
   "cell_type": "code",
   "execution_count": 202,
   "metadata": {},
   "outputs": [],
   "source": [
    "#Create column with perc value\n",
    "data_surnames_men = create_perc_col(data_surnames_men)\n",
    "data_surnames_women = create_perc_col(data_surnames_women)"
   ]
  },
  {
   "cell_type": "code",
   "execution_count": 294,
   "metadata": {},
   "outputs": [],
   "source": [
    "data_age_men = pd.read_excel(\"data_for_JSON/age_bael.xlsx\", sheet_name = \"men\")\n",
    "data_age_women = pd.read_excel(\"data_for_JSON/age_bael.xlsx\", sheet_name = \"women\")"
   ]
  },
  {
   "cell_type": "code",
   "execution_count": 295,
   "metadata": {},
   "outputs": [],
   "source": [
    "data_age_men = create_perc_col(data_age_men)\n",
    "data_age_women = create_perc_col(data_age_women)"
   ]
  },
  {
   "cell_type": "code",
   "execution_count": 305,
   "metadata": {},
   "outputs": [],
   "source": [
    "data_age_men[\"age\"] = data_age_men[\"age\"].str.strip().str.replace(\"65  lat i więcej\", \"65-72\")\n",
    "data_age_women[\"age\"] = data_age_women[\"age\"].str.strip().str.replace(\"65  lat i więcej\", \"65-72\")"
   ]
  },
  {
   "cell_type": "code",
   "execution_count": 321,
   "metadata": {},
   "outputs": [],
   "source": [
    "random_value = data_age_men.sample(1, weights = 'perc').age.to_string(index = False).strip()\n",
    "start_age = int(random_value[:2])\n",
    "end_age = int(random_value[-2:])\n",
    "employee_age = random.randint(start_age, end_age)"
   ]
  },
  {
   "cell_type": "code",
   "execution_count": 430,
   "metadata": {},
   "outputs": [],
   "source": [
    "salary_worker_distribution = [0.5,0.35, 0.1, 0.05]\n",
    "salary_menager_distribution = [0.25, 0.5, 0.15, 0.06, 0.04]\n",
    "minimum_wage = 2600"
   ]
  },
  {
   "cell_type": "code",
   "execution_count": 437,
   "metadata": {},
   "outputs": [
    {
     "data": {
      "text/plain": [
       "[2850]"
      ]
     },
     "execution_count": 437,
     "metadata": {},
     "output_type": "execute_result"
    }
   ],
   "source": []
  },
  {
   "cell_type": "code",
   "execution_count": null,
   "metadata": {},
   "outputs": [],
   "source": []
  },
  {
   "cell_type": "markdown",
   "metadata": {},
   "source": [
    "### Generate values for employees JSON"
   ]
  },
  {
   "cell_type": "code",
   "execution_count": 253,
   "metadata": {},
   "outputs": [],
   "source": [
    "id = uuid.uuid4()\n",
    "is_menager = random.choices([True, False], menager_distribution)[0]\n",
    "name = random.choice(names_list)[0]\n",
    "#Generate gender - based on name! \n",
    "\n",
    "if name in name_men_exceptions:\n",
    "    #observation is men with name ending with a\n",
    "    gender = 1\n",
    "elif name in name_women_excepions:\n",
    "    gender: 1\n",
    "elif name[-1] is 'a':\n",
    "    #observation is woman\n",
    "    gender = 0\n",
    "else:\n",
    "    #observation is man\n",
    "    gender = 1\n",
    "\n",
    "if gender is 1:\n",
    "    surname = get_men_surname()\n",
    "    age = create_emplo_age(data_age_men)\n",
    "else:\n",
    "    surname = get_women_surname()\n",
    "    age = create_emplo_age(data_age_women)\n",
    "    \n",
    "if is_menager: \n",
    "    salary = \n",
    "else:\n",
    "    salary = random.choices([minimum_wage, create_interval_wage(50, 300),create_interval_wage(350, 600), create_interval_wage(650, 1000) ], salary_worker_distribution)"
   ]
  },
  {
   "cell_type": "code",
   "execution_count": 441,
   "metadata": {},
   "outputs": [
    {
     "name": "stdout",
     "output_type": "stream",
     "text": [
      "ja\n"
     ]
    }
   ],
   "source": []
  },
  {
   "cell_type": "code",
   "execution_count": null,
   "metadata": {},
   "outputs": [],
   "source": []
  },
  {
   "cell_type": "code",
   "execution_count": null,
   "metadata": {},
   "outputs": [],
   "source": []
  },
  {
   "cell_type": "code",
   "execution_count": null,
   "metadata": {},
   "outputs": [],
   "source": []
  },
  {
   "cell_type": "code",
   "execution_count": null,
   "metadata": {},
   "outputs": [],
   "source": []
  },
  {
   "cell_type": "markdown",
   "metadata": {},
   "source": [
    "### Functions\n",
    "TO DO: add functions note book (or python file) and create import"
   ]
  },
  {
   "cell_type": "code",
   "execution_count": 251,
   "metadata": {},
   "outputs": [],
   "source": [
    "def get_men_surname():\n",
    "    \"\"\"\n",
    "    docstring\n",
    "    \"\"\"\n",
    "    return data_surnames_men.sample(1, weights = 'perc').surname.to_string(index = False).strip().capitalize()"
   ]
  },
  {
   "cell_type": "code",
   "execution_count": 250,
   "metadata": {},
   "outputs": [],
   "source": [
    "def get_women_surname():\n",
    "    \"\"\"\n",
    "    docstring\n",
    "    \"\"\"\n",
    "    return data_surnames_women.sample(1, weights = 'perc').surname.to_string(index = False).strip().capitalize()"
   ]
  },
  {
   "cell_type": "code",
   "execution_count": 270,
   "metadata": {},
   "outputs": [],
   "source": [
    "def create_perc_col(data_frame, number_col: str = \"number\", ndigits: int = 2):\n",
    "    \"\"\"\n",
    "    docstring\n",
    "    \"\"\"\n",
    "    data_frame[\"perc\"] = round(data_frame[number_col]/data_frame[number_col].sum(), ndigits)\n",
    "    return data_frame"
   ]
  },
  {
   "cell_type": "code",
   "execution_count": 325,
   "metadata": {},
   "outputs": [],
   "source": [
    "def create_emplo_age(age_data_set):\n",
    "    \"\"\"\n",
    "        docstring\n",
    "    \"\"\"\n",
    "    random_value = age_data_set.sample(1, weights = 'perc').age.to_string(index = False).strip()\n",
    "    start_age = int(random_value[:2])\n",
    "    end_age = int(random_value[-2:])\n",
    "    return random.randint(start_age, end_age)"
   ]
  },
  {
   "cell_type": "code",
   "execution_count": 362,
   "metadata": {},
   "outputs": [],
   "source": [
    "def create_interval_wage(min_add:int, max_add: int, step: int = 50, minimum_wage: int = 2600):\n",
    "    return random.randrange(minimum_wage + min_add, minimum_wage + max_add, step)"
   ]
  },
  {
   "cell_type": "code",
   "execution_count": null,
   "metadata": {},
   "outputs": [],
   "source": []
  },
  {
   "cell_type": "code",
   "execution_count": null,
   "metadata": {},
   "outputs": [],
   "source": [
    "\n"
   ]
  }
 ],
 "metadata": {
  "kernelspec": {
   "display_name": "Python 3",
   "language": "python",
   "name": "python3"
  },
  "language_info": {
   "codemirror_mode": {
    "name": "ipython",
    "version": 3
   },
   "file_extension": ".py",
   "mimetype": "text/x-python",
   "name": "python",
   "nbconvert_exporter": "python",
   "pygments_lexer": "ipython3",
   "version": "3.7.6"
  }
 },
 "nbformat": 4,
 "nbformat_minor": 4
}
