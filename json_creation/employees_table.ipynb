{
 "cells": [
  {
   "cell_type": "markdown",
   "metadata": {},
   "source": [
    "<center><h2> Create employees JSON document </h2></center>"
   ]
  },
  {
   "cell_type": "markdown",
   "metadata": {},
   "source": [
    "### Load libraries "
   ]
  },
  {
   "cell_type": "code",
   "execution_count": 16,
   "metadata": {},
   "outputs": [],
   "source": [
    "import json \n",
    "import uuid \n",
    "import random\n",
    "import csv\n",
    "import ipynb\n",
    "import pandas as pd \n",
    "import numpy as np\n",
    "import ipynb.fs.full.custom_functions as cf\n",
    "from datetime import datetime"
   ]
  },
  {
   "cell_type": "markdown",
   "metadata": {},
   "source": [
    "### variables for JSON"
   ]
  },
  {
   "cell_type": "code",
   "execution_count": 2,
   "metadata": {},
   "outputs": [],
   "source": [
    "# distribution for value is menager. 20% for being a menager.\n",
    "menager_distribution = [0.2,0.8]"
   ]
  },
  {
   "cell_type": "code",
   "execution_count": 3,
   "metadata": {},
   "outputs": [],
   "source": [
    "# load file with polish names. \n",
    "with open(\"data_for_JSON/names.csv\", newline='', encoding='utf-8') as f:\n",
    "    reader = csv.reader(f)\n",
    "    names_list = list(reader)\n",
    "    del names_list[0]"
   ]
  },
  {
   "cell_type": "code",
   "execution_count": 4,
   "metadata": {},
   "outputs": [],
   "source": [
    "#Exceptions of typical names. \n",
    "name_men_exceptions = [\"Jarema\", \"Barnaba\", \"Kuba\", \"Kosma\", \"Bonawentura\", \"Dyzma\"]\n",
    "name_women_excepions = [\"Nicole\"]"
   ]
  },
  {
   "cell_type": "code",
   "execution_count": 5,
   "metadata": {},
   "outputs": [],
   "source": [
    "#load data from GUS\n",
    "data_surnames_men = pd.read_csv(\"data_for_JSON/surnames_gus_men.csv\", skiprows=1, names = [\"surname\",\"number\"])\n",
    "data_surnames_women = pd.read_csv(\"data_for_JSON/surnames_gus_women.csv\", skiprows=1, names = [\"surname\",\"number\"])"
   ]
  },
  {
   "cell_type": "code",
   "execution_count": 112,
   "metadata": {},
   "outputs": [],
   "source": [
    "#Create column with perc value\n",
    "data_surnames_men = cf.create_perc_col(data_surnames_men, ndigits = 10)\n",
    "data_surnames_women = cf.create_perc_col(data_surnames_women, ndigits = 10)"
   ]
  },
  {
   "cell_type": "code",
   "execution_count": 7,
   "metadata": {},
   "outputs": [],
   "source": [
    "data_age_men = pd.read_excel(\"data_for_JSON/age_bael.xlsx\", sheet_name = \"men\")\n",
    "data_age_women = pd.read_excel(\"data_for_JSON/age_bael.xlsx\", sheet_name = \"women\")"
   ]
  },
  {
   "cell_type": "code",
   "execution_count": 8,
   "metadata": {},
   "outputs": [],
   "source": [
    "data_age_men = cf.create_perc_col(data_age_men)\n",
    "data_age_women = cf.create_perc_col(data_age_women)"
   ]
  },
  {
   "cell_type": "code",
   "execution_count": 9,
   "metadata": {},
   "outputs": [],
   "source": [
    "data_age_men[\"age\"] = data_age_men[\"age\"].str.strip().str.replace(\"65  lat i więcej\", \"65-72\")\n",
    "data_age_women[\"age\"] = data_age_women[\"age\"].str.strip().str.replace(\"65  lat i więcej\", \"65-72\")"
   ]
  },
  {
   "cell_type": "code",
   "execution_count": 10,
   "metadata": {},
   "outputs": [],
   "source": [
    "salary_worker_distribution = [0.5,0.35, 0.1, 0.05]\n",
    "salary_menager_distribution = [0.25, 0.5, 0.15, 0.06, 0.04]\n",
    "minimum_wage = 2600"
   ]
  },
  {
   "cell_type": "code",
   "execution_count": 11,
   "metadata": {},
   "outputs": [
    {
     "data": {
      "text/plain": [
       "[3950]"
      ]
     },
     "execution_count": 11,
     "metadata": {},
     "output_type": "execute_result"
    }
   ],
   "source": [
    "random.choices([cf.create_interval_wage(300, 600), cf.create_interval_wage(650, 1000), cf.create_interval_wage(1000, 1500), cf.create_interval_wage(1500, 1900), cf.create_interval_wage(1900, 2500, step = 100)], salary_menager_distribution)"
   ]
  },
  {
   "cell_type": "code",
   "execution_count": null,
   "metadata": {},
   "outputs": [],
   "source": []
  },
  {
   "cell_type": "markdown",
   "metadata": {},
   "source": [
    "### Generate values for employees JSON"
   ]
  },
  {
   "cell_type": "code",
   "execution_count": 115,
   "metadata": {},
   "outputs": [],
   "source": [
    "id = str(uuid.uuid4())\n",
    "is_menager = random.choices([True, False], menager_distribution)[0]\n",
    "name = random.choice(names_list)[0]\n",
    "#Generate gender - based on name! \n",
    "\n",
    "if name in name_men_exceptions:\n",
    "    #observation is men with name ending with a\n",
    "    gender = 1\n",
    "elif name in name_women_excepions:\n",
    "    gender: 1\n",
    "elif name[-1] is 'a':\n",
    "    #observation is woman\n",
    "    gender = 0\n",
    "else:\n",
    "    #observation is man\n",
    "    gender = 1\n",
    "\n",
    "if gender is 1:\n",
    "    surname = cf.get_surname(data_surnames_men)\n",
    "    age = cf.create_emplo_age(data_age_men)\n",
    "else:\n",
    "    surname = cf.get_surname(data_surnames_women)\n",
    "    age = cf.create_emplo_age(data_age_women)\n",
    "    \n",
    "if is_menager: \n",
    "    salary = random.choices([cf.create_interval_wage(300, 600), cf.create_interval_wage(650, 1000), cf.create_interval_wage(1000, 1500), cf.create_interval_wage(1500, 1900), cf.create_interval_wage(1900, 2500, step = 100)], salary_menager_distribution)[0]\n",
    "else:\n",
    "    salary = random.choices([minimum_wage, cf.create_interval_wage(50, 300),cf.create_interval_wage(350, 600), cf.create_interval_wage(650, 1000) ], salary_worker_distribution)[0]\n",
    "    \n",
    "employee_dict = {\n",
    "    \"id\" : id,\n",
    "    \"is_menager\" : is_menager,\n",
    "    \"name\" : name,\n",
    "    \"surname\" : surname,\n",
    "    \"gender\" : gender,\n",
    "    \"age\" : age,\n",
    "    \"salary\" : salary,\n",
    "    \"created_at\" : datetime.now(),\n",
    "    \"updated_at\" : datetime.now()\n",
    "}"
   ]
  },
  {
   "cell_type": "code",
   "execution_count": 116,
   "metadata": {},
   "outputs": [
    {
     "data": {
      "text/plain": [
       "{'id': 'e9656489-971a-4954-a749-1baa9a4affcf',\n",
       " 'is_menager': False,\n",
       " 'name': 'Marietta',\n",
       " 'surname': 'Sagan',\n",
       " 'gender': 0,\n",
       " 'age': 20,\n",
       " 'salary': 2600,\n",
       " 'created_at': datetime.datetime(2020, 6, 11, 18, 48, 14, 308636),\n",
       " 'updated_at': datetime.datetime(2020, 6, 11, 18, 48, 14, 308636)}"
      ]
     },
     "execution_count": 116,
     "metadata": {},
     "output_type": "execute_result"
    }
   ],
   "source": [
    "employee_dict"
   ]
  },
  {
   "cell_type": "code",
   "execution_count": null,
   "metadata": {},
   "outputs": [],
   "source": []
  }
 ],
 "metadata": {
  "kernelspec": {
   "display_name": "Python 3",
   "language": "python",
   "name": "python3"
  },
  "language_info": {
   "codemirror_mode": {
    "name": "ipython",
    "version": 3
   },
   "file_extension": ".py",
   "mimetype": "text/x-python",
   "name": "python",
   "nbconvert_exporter": "python",
   "pygments_lexer": "ipython3",
   "version": "3.7.6"
  }
 },
 "nbformat": 4,
 "nbformat_minor": 4
}
