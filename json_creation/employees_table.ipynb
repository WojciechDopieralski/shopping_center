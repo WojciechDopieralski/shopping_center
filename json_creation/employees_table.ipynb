{
 "cells": [
  {
   "cell_type": "markdown",
   "metadata": {},
   "source": [
    "<center><h2> Create employees JSON document </h2></center>"
   ]
  },
  {
   "cell_type": "markdown",
   "metadata": {},
   "source": [
    "### Load libraries "
   ]
  },
  {
   "cell_type": "code",
   "execution_count": 66,
   "metadata": {},
   "outputs": [],
   "source": [
    "import json \n",
    "import uuid \n",
    "import random\n",
    "import pandas as pd \n",
    "import numpy as np\n",
    "import csv"
   ]
  },
  {
   "cell_type": "markdown",
   "metadata": {},
   "source": [
    "### variables for JSON"
   ]
  },
  {
   "cell_type": "code",
   "execution_count": 61,
   "metadata": {},
   "outputs": [],
   "source": [
    "# distribution for value is menager. 20% for being a menager.\n",
    "menager_distribution = [0.2,0.8]\n"
   ]
  },
  {
   "cell_type": "code",
   "execution_count": 72,
   "metadata": {},
   "outputs": [],
   "source": [
    "# load file with polish names. \n",
    "with open(\"data_for_JSON/names.csv\", newline='', encoding='utf-8') as f:\n",
    "    reader = csv.reader(f)\n",
    "    names_list = list(reader)\n",
    "    del names_list[0]"
   ]
  },
  {
   "cell_type": "code",
   "execution_count": 168,
   "metadata": {},
   "outputs": [],
   "source": [
    "#Exceptions of typical names. \n",
    "name_men_exceptions = [\"Jarema\", \"Barnaba\", \"Kuba\", \"Kosma\", \"Bonawentura\", \"Dyzma\"]\n",
    "name_women_excepions = [\"Nicole\"]"
   ]
  },
  {
   "cell_type": "code",
   "execution_count": 195,
   "metadata": {},
   "outputs": [],
   "source": [
    "data_surnames_men = pd.read_csv(\"data_for_JSON/surnames_gus_men.csv\", skiprows=1, names = [\"surname\",\"number\"])\n",
    "data_surnames_women = pd.read_csv(\"data_for_JSON/surnames_gus_women.csv\", skiprows=1, names = [\"surname\",\"number\"])\n"
   ]
  },
  {
   "cell_type": "code",
   "execution_count": 202,
   "metadata": {},
   "outputs": [],
   "source": [
    "data_surnames_men[\"perc\"] = round(data_surnames_men[\"number\"]/data_surnames_men[\"number\"].sum(),4)\n",
    "data_surnames_women[\"perc\"] = round(data_surnames_women[\"number\"]/data_surnames_women[\"number\"].sum(),4)"
   ]
  },
  {
   "cell_type": "code",
   "execution_count": 248,
   "metadata": {},
   "outputs": [
    {
     "data": {
      "text/plain": [
       "'Stefanowski'"
      ]
     },
     "execution_count": 248,
     "metadata": {},
     "output_type": "execute_result"
    }
   ],
   "source": [
    "\n",
    "\n",
    "\n",
    "    "
   ]
  },
  {
   "cell_type": "code",
   "execution_count": null,
   "metadata": {},
   "outputs": [],
   "source": []
  },
  {
   "cell_type": "markdown",
   "metadata": {},
   "source": [
    "### Generate values for employees JSON"
   ]
  },
  {
   "cell_type": "code",
   "execution_count": 253,
   "metadata": {},
   "outputs": [],
   "source": [
    "id = uuid.uuid4()\n",
    "is_menager = random.choices([True, False], menager_distribution)[0]\n",
    "name = random.choice(names_list)[0]\n",
    "#Generate gender - based on name! \n",
    "\n",
    "if name in name_men_exceptions:\n",
    "    #observation is men with name ending with a\n",
    "    gender = 1\n",
    "elif name in name_women_excepions:\n",
    "    gender: 1\n",
    "elif name[-1] is 'a':\n",
    "    #observation is woman\n",
    "    gender = 0\n",
    "else:\n",
    "    #observation is man\n",
    "    gender = 1\n",
    "\n",
    "if gender is 1:\n",
    "    surname = get_men_surname()\n",
    "else:\n",
    "    surname = get_women_surname()\n",
    "    \n",
    "\n"
   ]
  },
  {
   "cell_type": "code",
   "execution_count": null,
   "metadata": {},
   "outputs": [],
   "source": []
  },
  {
   "cell_type": "code",
   "execution_count": null,
   "metadata": {},
   "outputs": [],
   "source": []
  },
  {
   "cell_type": "code",
   "execution_count": null,
   "metadata": {},
   "outputs": [],
   "source": []
  },
  {
   "cell_type": "code",
   "execution_count": null,
   "metadata": {},
   "outputs": [],
   "source": []
  },
  {
   "cell_type": "code",
   "execution_count": null,
   "metadata": {},
   "outputs": [],
   "source": []
  },
  {
   "cell_type": "markdown",
   "metadata": {},
   "source": [
    "### Functions\n",
    "TO DO: add functions note book (or python file) and create import"
   ]
  },
  {
   "cell_type": "code",
   "execution_count": 251,
   "metadata": {},
   "outputs": [],
   "source": [
    "def get_men_surname():\n",
    "    return data_surnames_men.sample(1, weights = 'perc').surname.to_string(index = False).strip().capitalize()"
   ]
  },
  {
   "cell_type": "code",
   "execution_count": 250,
   "metadata": {},
   "outputs": [],
   "source": [
    "def get_women_surname():\n",
    "    return data_surnames_women.sample(1, weights = 'perc').surname.to_string(index = False).strip().capitalize()"
   ]
  },
  {
   "cell_type": "code",
   "execution_count": null,
   "metadata": {},
   "outputs": [],
   "source": []
  },
  {
   "cell_type": "code",
   "execution_count": null,
   "metadata": {},
   "outputs": [],
   "source": []
  },
  {
   "cell_type": "code",
   "execution_count": null,
   "metadata": {},
   "outputs": [],
   "source": []
  }
 ],
 "metadata": {
  "kernelspec": {
   "display_name": "Python 3",
   "language": "python",
   "name": "python3"
  },
  "language_info": {
   "codemirror_mode": {
    "name": "ipython",
    "version": 3
   },
   "file_extension": ".py",
   "mimetype": "text/x-python",
   "name": "python",
   "nbconvert_exporter": "python",
   "pygments_lexer": "ipython3",
   "version": "3.7.6"
  }
 },
 "nbformat": 4,
 "nbformat_minor": 4
}
