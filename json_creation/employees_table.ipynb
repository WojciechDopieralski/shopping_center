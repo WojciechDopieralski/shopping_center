{
 "cells": [
  {
   "cell_type": "markdown",
   "metadata": {},
   "source": [
    "<center><h2> Create employees JSON document </h2></center>"
   ]
  },
  {
   "cell_type": "markdown",
   "metadata": {},
   "source": [
    "### Load libraries "
   ]
  },
  {
   "cell_type": "code",
   "execution_count": 3,
   "metadata": {},
   "outputs": [],
   "source": [
    "import json \n",
    "import uuid \n",
    "import random\n",
    "import csv\n",
    "import ipynb\n",
    "import json\n",
    "import pymongo as pym\n",
    "import pickle\n",
    "import pandas as pd \n",
    "import numpy as np\n",
    "import ipynb.fs.full.custom_functions as cf\n",
    "from datetime import datetime"
   ]
  },
  {
   "cell_type": "code",
   "execution_count": 4,
   "metadata": {},
   "outputs": [],
   "source": [
    "#TO DO: ZABEZPIECZYC HASLO, USERNAME, ADRES DO BAZY etc.\n",
    "client = pym.MongoClient(host = 'kti-lab1.ue.poznan.pl', port = 27017, username='ztbd47262', password='wd47262', authSource='ztbd47262', authMechanism='SCRAM-SHA-1')"
   ]
  },
  {
   "cell_type": "code",
   "execution_count": 5,
   "metadata": {},
   "outputs": [],
   "source": [
    "db = client[\"ztbd47262\"]"
   ]
  },
  {
   "cell_type": "markdown",
   "metadata": {},
   "source": [
    "### Load data for generating employees"
   ]
  },
  {
   "cell_type": "code",
   "execution_count": 6,
   "metadata": {},
   "outputs": [],
   "source": [
    "# load file with polish names. \n",
    "with open(\"data_for_JSON/names.csv\", newline='', encoding='utf-8') as f:\n",
    "    reader = csv.reader(f)\n",
    "    names_list = list(filter(None, reader))\n",
    "    del names_list[0]\n",
    "    \n",
    "#load data from GUS about polish surnames\n",
    "data_surnames_men = pd.read_csv(\"data_for_JSON/surnames_gus_men.csv\", skiprows=1, names = [\"surname\",\"number\"], encoding='utf-8')\n",
    "data_surnames_women = pd.read_csv(\"data_for_JSON/surnames_gus_women.csv\", skiprows=1, names = [\"surname\",\"number\"], encoding='utf-8')\n",
    "#load data from BAEL about age of working ppl.\n",
    "data_age_men = pd.read_excel(\"data_for_JSON/age_bael.xlsx\", sheet_name = \"men\")\n",
    "data_age_women = pd.read_excel(\"data_for_JSON/age_bael.xlsx\", sheet_name = \"women\")"
   ]
  },
  {
   "cell_type": "code",
   "execution_count": 7,
   "metadata": {},
   "outputs": [],
   "source": [
    "#Create column with perc value\n",
    "data_surnames_men = cf.create_perc_col(data_surnames_men, ndigits = 10)\n",
    "data_surnames_women = cf.create_perc_col(data_surnames_women, ndigits = 10)"
   ]
  },
  {
   "cell_type": "code",
   "execution_count": 8,
   "metadata": {},
   "outputs": [],
   "source": [
    "data_age_men = cf.create_perc_col(data_age_men)\n",
    "data_age_women = cf.create_perc_col(data_age_women)\n",
    "data_age_men[\"age\"] = data_age_men[\"age\"].str.strip().str.replace(\"65  lat i więcej\", \"65-72\")\n",
    "data_age_women[\"age\"] = data_age_women[\"age\"].str.strip().str.replace(\"65  lat i więcej\", \"65-72\")"
   ]
  },
  {
   "cell_type": "markdown",
   "metadata": {},
   "source": [
    "### Generate values for employees JSON"
   ]
  },
  {
   "cell_type": "code",
   "execution_count": 9,
   "metadata": {},
   "outputs": [],
   "source": [
    "number_of_emplo_in_center = 1000\n",
    "emplo_list_dict = []"
   ]
  },
  {
   "cell_type": "code",
   "execution_count": 11,
   "metadata": {},
   "outputs": [],
   "source": [
    "for i in range(number_of_emplo_in_center):\n",
    "    emplo_dict = cf.generate_employee(names_list, data_surnames_men,data_age_men, data_surnames_women, data_age_women)\n",
    "    emplo_list_dict.append(emplo_dict)"
   ]
  },
  {
   "cell_type": "code",
   "execution_count": 12,
   "metadata": {},
   "outputs": [],
   "source": [
    "with open('created_tables_json/employees_pickle', 'wb') as fp:\n",
    "    pickle.dump(emplo_list_dict, fp)"
   ]
  },
  {
   "cell_type": "markdown",
   "metadata": {},
   "source": [
    "### Add to MongoDB"
   ]
  },
  {
   "cell_type": "code",
   "execution_count": 13,
   "metadata": {},
   "outputs": [
    {
     "data": {
      "text/plain": [
       "Collection(Database(MongoClient(host=['kti-lab1.ue.poznan.pl:27017'], document_class=dict, tz_aware=False, connect=True, authsource='ztbd47262', authmechanism='SCRAM-SHA-1'), 'ztbd47262'), 'emplo_pro')"
      ]
     },
     "execution_count": 13,
     "metadata": {},
     "output_type": "execute_result"
    }
   ],
   "source": [
    "#db.create_collection(\"emplo_pro\")"
   ]
  },
  {
   "cell_type": "code",
   "execution_count": 14,
   "metadata": {},
   "outputs": [],
   "source": [
    "collection_emplo_pro = db[\"emplo_pro\"]"
   ]
  },
  {
   "cell_type": "code",
   "execution_count": 15,
   "metadata": {},
   "outputs": [
    {
     "data": {
      "text/plain": [
       "<pymongo.results.InsertManyResult at 0x1efbd9c1488>"
      ]
     },
     "execution_count": 15,
     "metadata": {},
     "output_type": "execute_result"
    }
   ],
   "source": [
    "collection_emplo_pro.insert_many(emplo_list_dict)"
   ]
  },
  {
   "cell_type": "code",
   "execution_count": 16,
   "metadata": {},
   "outputs": [],
   "source": [
    "client.close()"
   ]
  }
 ],
 "metadata": {
  "kernelspec": {
   "display_name": "Python 3",
   "language": "python",
   "name": "python3"
  },
  "language_info": {
   "codemirror_mode": {
    "name": "ipython",
    "version": 3
   },
   "file_extension": ".py",
   "mimetype": "text/x-python",
   "name": "python",
   "nbconvert_exporter": "python",
   "pygments_lexer": "ipython3",
   "version": "3.7.6"
  }
 },
 "nbformat": 4,
 "nbformat_minor": 4
}
